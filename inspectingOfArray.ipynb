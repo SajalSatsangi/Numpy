{
 "cells": [
  {
   "cell_type": "code",
   "execution_count": 2,
   "metadata": {},
   "outputs": [
    {
     "name": "stdout",
     "output_type": "stream",
     "text": [
      "[30 40 20 40 30]\n",
      "(5,)\n",
      "5\n"
     ]
    }
   ],
   "source": [
    "import numpy as np\n",
    "\n",
    "a = [30, 40, 20, 40, 30]\n",
    "arr = np.array(a)\n",
    "print(arr)\n",
    "print(arr.shape)\n",
    "print(len(arr))"
   ]
  },
  {
   "cell_type": "code",
   "execution_count": 15,
   "metadata": {},
   "outputs": [
    {
     "name": "stdout",
     "output_type": "stream",
     "text": [
      "[[30 40 50]\n",
      " [20 40 30]]\n",
      "(2, 3)\n",
      "2\n",
      "6\n",
      "<class 'numpy.ndarray'>\n",
      "int32\n",
      "[[30 40 50]\n",
      " [20 40 30]]\n"
     ]
    }
   ],
   "source": [
    "import numpy as np\n",
    "\n",
    "a = [[30, 40,50],[ 20, 40, 30]]\n",
    "arr = np.array(a)\n",
    "print(arr)\n",
    "print(arr.shape) # rows, coloums\n",
    "print(len(arr)) # number of nested values\n",
    "print(np.size(arr)) # number of elements\n",
    "print(type(arr)) # datatype of variable\n",
    "print(arr.dtype) # datatype of array\n",
    "print(arr.astype(int)) # conversion of datatype"
   ]
  },
  {
   "cell_type": "code",
   "execution_count": null,
   "metadata": {},
   "outputs": [],
   "source": []
  }
 ],
 "metadata": {
  "kernelspec": {
   "display_name": "Python 3",
   "language": "python",
   "name": "python3"
  },
  "language_info": {
   "codemirror_mode": {
    "name": "ipython",
    "version": 3
   },
   "file_extension": ".py",
   "mimetype": "text/x-python",
   "name": "python",
   "nbconvert_exporter": "python",
   "pygments_lexer": "ipython3",
   "version": "3.12.0"
  }
 },
 "nbformat": 4,
 "nbformat_minor": 2
}
